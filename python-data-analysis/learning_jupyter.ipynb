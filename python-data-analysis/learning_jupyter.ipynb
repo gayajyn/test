{
 "cells": [
  {
   "cell_type": "code",
   "execution_count": 3,
   "id": "8a66a84b-10e6-4be3-bfc4-d91db41b25fb",
   "metadata": {},
   "outputs": [
    {
     "name": "stdout",
     "output_type": "stream",
     "text": [
      "hello!\n"
     ]
    }
   ],
   "source": [
    "print(\"hello!\")"
   ]
  },
  {
   "cell_type": "code",
   "execution_count": 5,
   "id": "b35b5426-88a4-4c00-9937-a06ce7b368d3",
   "metadata": {},
   "outputs": [
    {
     "name": "stdout",
     "output_type": "stream",
     "text": [
      "h\n",
      "e\n",
      "l\n",
      "l\n",
      "o\n"
     ]
    }
   ],
   "source": [
    "for letter in \"hello\":\n",
    "    print(letter)"
   ]
  },
  {
   "cell_type": "markdown",
   "id": "157d1061-d75a-41f1-82d5-cd9c6562616f",
   "metadata": {},
   "source": [
    "**bold text** *italic text* \n",
    "www.google.com\n",
    "* bullet point\n",
    "\n",
    "$\\sqrt(4)$"
   ]
  },
  {
   "cell_type": "markdown",
   "id": "0070ccb1-64de-4851-926f-e3aa98371101",
   "metadata": {},
   "source": [
    "**bold text** *italic text* \n",
    "www.google.com\n",
    "* bullet point\n",
    "\n",
    "$\\sqrt(4)$"
   ]
  }
 ],
 "metadata": {
  "kernelspec": {
   "display_name": "Python 3 (ipykernel)",
   "language": "python",
   "name": "python3"
  },
  "language_info": {
   "codemirror_mode": {
    "name": "ipython",
    "version": 3
   },
   "file_extension": ".py",
   "mimetype": "text/x-python",
   "name": "python",
   "nbconvert_exporter": "python",
   "pygments_lexer": "ipython3",
   "version": "3.12.4"
  }
 },
 "nbformat": 4,
 "nbformat_minor": 5
}
